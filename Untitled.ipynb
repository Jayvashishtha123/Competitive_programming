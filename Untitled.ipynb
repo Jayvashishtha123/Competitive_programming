{
 "cells": [
  {
   "cell_type": "code",
   "execution_count": 1,
   "id": "b91d3f34-c61c-4f56-82f8-9d699dbb7081",
   "metadata": {},
   "outputs": [
    {
     "name": "stdout",
     "output_type": "stream",
     "text": [
      "JAY\n"
     ]
    }
   ],
   "source": [
    "print(\"JAY\")"
   ]
  },
  {
   "cell_type": "code",
   "execution_count": 10,
   "id": "db1b4cde-8857-42c9-977a-c531b531b007",
   "metadata": {},
   "outputs": [
    {
     "name": "stdout",
     "output_type": "stream",
     "text": [
      "333333333333333333\n"
     ]
    }
   ],
   "source": [
    "print(9*\"3\"*2)"
   ]
  }
 ],
 "metadata": {
  "kernelspec": {
   "display_name": "Python 3",
   "language": "python",
   "name": "python3"
  },
  "language_info": {
   "codemirror_mode": {
    "name": "ipython",
    "version": 3
   },
   "file_extension": ".py",
   "mimetype": "text/x-python",
   "name": "python",
   "nbconvert_exporter": "python",
   "pygments_lexer": "ipython3",
   "version": "3.10.16"
  }
 },
 "nbformat": 4,
 "nbformat_minor": 5
}
